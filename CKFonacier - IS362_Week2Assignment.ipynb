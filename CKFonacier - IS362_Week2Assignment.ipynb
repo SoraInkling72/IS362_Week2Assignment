{
 "cells": [
  {
   "cell_type": "markdown",
   "id": "c708daa9",
   "metadata": {},
   "source": [
    "# Set Comprehension Documentation"
   ]
  },
  {
   "cell_type": "markdown",
   "id": "a1cc7c50",
   "metadata": {},
   "source": [
    "Set comprehensions are an aspect of data structures that I consider challenging. It's a method for creating sets in Python using elements from a pre-existing data structures, or iterables, such as lists, tuples, and dictonaries, creating a new set and adding new elements to it, as opposed to using the \"for loop to\" method, which is considered lengthy."
   ]
  },
  {
   "cell_type": "markdown",
   "id": "1d889a7e",
   "metadata": {},
   "source": [
    "## Differences between set comprehension and \"for loops\""
   ]
  },
  {
   "cell_type": "markdown",
   "id": "49cbf0ac",
   "metadata": {},
   "source": [
    "Some key characteristics when making iterables and lists would be utilizing the characters used to store them. For dictionaries, lists, and tuples, they would makes use of square brackets; on the other hand, set comprehensions makes use of curly brackets. In the case of the set comprehensions, this is done to make use of the elements of the iterables."
   ]
  },
  {
   "cell_type": "markdown",
   "id": "a3dd94e9",
   "metadata": {},
   "source": [
    "Here is an example utilizing a list with ice cream flavors:"
   ]
  },
  {
   "cell_type": "code",
   "execution_count": 6,
   "id": "c443fdea",
   "metadata": {},
   "outputs": [],
   "source": [
    "ice_cream_flavors = ['cookies & cream', 'pistachio', 'strawberry', 'neapolitan', 'chocolate', 'vanilla', 'cookie monster']"
   ]
  },
  {
   "cell_type": "code",
   "execution_count": 7,
   "id": "c06c2b0d",
   "metadata": {},
   "outputs": [
    {
     "data": {
      "text/plain": [
       "['cookies & cream',\n",
       " 'pistachio',\n",
       " 'strawberry',\n",
       " 'neapolitan',\n",
       " 'chocolate',\n",
       " 'vanilla',\n",
       " 'cookie monster']"
      ]
     },
     "execution_count": 7,
     "metadata": {},
     "output_type": "execute_result"
    }
   ],
   "source": [
    "ice_cream_flavors"
   ]
  },
  {
   "cell_type": "markdown",
   "id": "92ebe004",
   "metadata": {},
   "source": [
    "### \"for loop\" examples"
   ]
  },
  {
   "cell_type": "markdown",
   "id": "06d6a639",
   "metadata": {},
   "source": [
    "This example below is done to retrieve specific list items using the \"for loop\" method.\n",
    "\n",
    "The first one is to demonstrate how to remove the list elements and list the names as normal text. However, the second one is to demonstrate the retrieval of specific list items, such as flavors that begin with \"c.\"\n",
    "\n",
    "Furthermore, the 'for' and 'in' statements are used to interact with a pre-existing list to access each element and print it."
   ]
  },
  {
   "cell_type": "code",
   "execution_count": 21,
   "id": "ccce00ff",
   "metadata": {
    "scrolled": true
   },
   "outputs": [
    {
     "name": "stdout",
     "output_type": "stream",
     "text": [
      "cookies & cream\n",
      "pistachio\n",
      "strawberry\n",
      "neapolitan\n",
      "chocolate\n",
      "vanilla\n",
      "cookie monster\n"
     ]
    }
   ],
   "source": [
    "for flavor in ice_cream_flavors:\n",
    "    print (flavor)"
   ]
  },
  {
   "cell_type": "markdown",
   "id": "6976c902",
   "metadata": {},
   "source": [
    "This example here adds 'if' statements for a specific condition when making a list."
   ]
  },
  {
   "cell_type": "code",
   "execution_count": 10,
   "id": "32bd1e56",
   "metadata": {},
   "outputs": [
    {
     "name": "stdout",
     "output_type": "stream",
     "text": [
      "cookies & cream\n",
      "chocolate\n",
      "cookie monster\n"
     ]
    }
   ],
   "source": [
    "for flavor in ice_cream_flavors:\n",
    "    if flavor[0] == 'c':\n",
    "        print (f\"{flavor}\")"
   ]
  },
  {
   "cell_type": "markdown",
   "id": "85756b90",
   "metadata": {},
   "source": [
    "### Set Comprehension Examples"
   ]
  },
  {
   "cell_type": "markdown",
   "id": "b9d476db",
   "metadata": {},
   "source": [
    "Unlike the \"for loop\" method, set comprehensions are meant to shorten the process, reducing the amount of code necessary to run it. Unlike the \"for loop\" method, it will not print another list, rather another set. The usage of the curly brackets is to denote its identity as a data set, unlike lists, strings, and tuples.\n",
    "\n",
    "The example below lists how a set comprehension is primarily written out. With the expressions, iterable, and condition filled out in the second cell.\n",
    "\n",
    "Utilizing the \"for loop\" demonstration for comparison, we can see that the set comprehension shortens the code used to print it, being compiled into a single line. However, unlike lists, tuples, or dictionaries, running the set itself will automatically alphabetize the its elements; while printing it will have the elements ordered as in the original list."
   ]
  },
  {
   "cell_type": "markdown",
   "execution_count": null,
   "id": "9cc996d1",
   "metadata": {},
   "outputs": [],
   "source": [
    "a_set = { <expression> for <expression> in <iterable> if <condition> }"
   ]
  },
  {
   "cell_type": "markdown",
   "execution_count": null,
   "id": "74f76d21",
   "metadata": {},
   "outputs": [],
   "source": [
    "a_set = { flavor for flavor in ice_cream_flavors if flavor[0] == 't' }"
   ]
  },
  {
   "cell_type": "code",
   "execution_count": 13,
   "id": "07815571",
   "metadata": {},
   "outputs": [],
   "source": [
    "set_list = {flavor for flavor in ice_cream_flavors if flavor[0] == 'c'}"
   ]
  },
  {
   "cell_type": "code",
   "execution_count": 24,
   "id": "3eb59ccd",
   "metadata": {},
   "outputs": [
    {
     "data": {
      "text/plain": [
       "{'chocolate', 'cookie monster', 'cookies & cream'}"
      ]
     },
     "execution_count": 24,
     "metadata": {},
     "output_type": "execute_result"
    }
   ],
   "source": [
    "set_list"
   ]
  },
  {
   "cell_type": "code",
   "execution_count": 23,
   "id": "7bea91c5",
   "metadata": {
    "scrolled": true
   },
   "outputs": [
    {
     "name": "stdout",
     "output_type": "stream",
     "text": [
      "{'cookies & cream', 'chocolate', 'cookie monster'}\n"
     ]
    }
   ],
   "source": [
    "print(set_list)"
   ]
  },
  {
   "cell_type": "markdown",
   "id": "f0eb8952",
   "metadata": {},
   "source": [
    "## Conclusion"
   ]
  },
  {
   "cell_type": "markdown",
   "id": "f0f3bb2a",
   "metadata": {},
   "source": [
    "Overall, I consider set comprehensions to be challenging because I need to understand when it is needed, as well as what needs to be written depending on the elements in the lists, tuples, and/or dictionaries. If the code requires me to create a set, as opposed to utilziing the \"for loop\" method for solely creating another list, I would use it. However, despite the simplicity of the a set comprehension, it does not remove the curly brackets, apostrophes/quotations, and commas, requiring the usage of the \"for\" and \"in.\" Regardless, set comprehensions are used to shorten the usage of a \"for loop\" while sorting and retrieving certain elements in a data set."
   ]
  },
  {
   "cell_type": "markdown",
   "id": "86230dcc",
   "metadata": {},
   "source": [
    "For removing the commas, brackets, and apostrophes/quotations, here is an example:\n",
    "\n",
    "But it does not sort them alphabetically, which is the same result of using the \"for loop\" method."
   ]
  },
  {
   "cell_type": "code",
   "execution_count": 27,
   "id": "9c9c4429",
   "metadata": {},
   "outputs": [
    {
     "name": "stdout",
     "output_type": "stream",
     "text": [
      "cookies & cream\n",
      "chocolate\n",
      "cookie monster\n"
     ]
    }
   ],
   "source": [
    "for item in set_list:\n",
    "    print(item)"
   ]
  }
 ],
 "metadata": {
  "kernelspec": {
   "display_name": "Python 3",
   "language": "python",
   "name": "python3"
  },
  "language_info": {
   "codemirror_mode": {
    "name": "ipython",
    "version": 3
   },
   "file_extension": ".py",
   "mimetype": "text/x-python",
   "name": "python",
   "nbconvert_exporter": "python",
   "pygments_lexer": "ipython3",
   "version": "3.8.10"
  }
 },
 "nbformat": 4,
 "nbformat_minor": 5
}
